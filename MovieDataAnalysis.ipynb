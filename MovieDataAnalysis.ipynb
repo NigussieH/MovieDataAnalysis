{
 "cells": [
  {
   "cell_type": "markdown",
   "metadata": {},
   "source": [
    "\n",
    "\n",
    "# Project: TMDB Movies Data Analysis\n",
    "\n",
    "## Table of Contents\n",
    "<ul>\n",
    "<li><a href=\"#intro\">Introduction</a></li>\n",
    "<li><a href=\"#wrangling\">Data Wrangling</a></li>\n",
    "<li><a href=\"#eda\">Exploratory Data Analysis</a></li>\n",
    "<li><a href=\"#conclusions\">Conclusions</a></li>\n",
    "</ul>"
   ]
  },
  {
   "cell_type": "markdown",
   "metadata": {},
   "source": [
    "<a id='intro'></a>\n",
    "## Introduction\n",
    "\n",
    ">This data set contains information about 10,000 movies collected from The **Movie Database (TMDb)**, including user ratings and revenue.\n",
    ">\n",
    ">● Certain columns, like ‘cast’ and ‘genres’, contain multiple values separated by pipe (|) characters.\n",
    ">\n",
    ">● There are some odd characters in the ‘cast’ column. Don’t worry about cleaning them. You can leave them as is.\n",
    ">\n",
    ">● The final two columns ending with “_adj” show the budget and revenue of the associated movie in terms of 2010 dollars, accounting for inflation over time.\n",
    ">\n",
    "\n",
    "### Questions to be addressed from this data analysis are as follows\n",
    ">\n",
    ">1. Which genres are most popular from year to year?\n",
    ">\n",
    ">2. What kinds of properties are associated with movies that have high revenues?\n",
    ">\n",
    ">3. Display the title of a movie having runtime >= 180 Minutes\n",
    ">\n",
    ">4. In Which year was The highest Average Revenue?\n",
    ">\n",
    ">5. Find the Average rating for each Director?\n",
    ">\n",
    ">6. Display the Top 10 Lengthy Movies Title and Runtime?\n",
    ">\n",
    ">7. Display the Number of movies per year?\n",
    ">\n",
    ">8. Find the most Popular Movie Title(Highest Revenue)?\n",
    ">\n",
    ">9. Display the Top Highest Rated Movies Titles And its Directors?\n",
    ">\n",
    ">10. Display the Top 10 Highest Revenue Movie Titles?\n",
    ">\n",
    ">11. Find Average Rating of Movies Year Wise ?\n",
    ">\n",
    ">12. Movies Based on Ratings [Excellent, Good and Average] ?\n",
    ">\n",
    ">13. Count the Number of Action Movies?\n",
    ">\n",
    ">14. Find the unique values from generes?\n",
    ">\n",
    ">15. Which director produces the higher number of movies? (Top 10)"
   ]
  },
  {
   "cell_type": "code",
   "execution_count": 1,
   "metadata": {},
   "outputs": [],
   "source": [
    "#  import all required packages \n",
    "import pandas as pd\n",
    "import matplotlib.pyplot as plt\n",
    "import seaborn as sns\n",
    "%matplotlib inline"
   ]
  },
  {
   "cell_type": "markdown",
   "metadata": {},
   "source": [
    "<a id='wrangling'></a>\n",
    "## Data Wrangling\n",
    "\n",
    "\n",
    "###   Load  and Read the data\n",
    "> load and read the movie database. Store it in a variable called `tmdb-movies.csv`."
   ]
  },
  {
   "cell_type": "code",
   "execution_count": 2,
   "metadata": {},
   "outputs": [],
   "source": [
    "# Load the data and print out a few lines. Perform operations to inspect data\n",
    "\n",
    "df = pd.read_csv('tmdb-movies.csv')"
   ]
  },
  {
   "cell_type": "code",
   "execution_count": 3,
   "metadata": {
    "scrolled": true
   },
   "outputs": [
    {
     "data": {
      "text/html": [
       "<div>\n",
       "<style scoped>\n",
       "    .dataframe tbody tr th:only-of-type {\n",
       "        vertical-align: middle;\n",
       "    }\n",
       "\n",
       "    .dataframe tbody tr th {\n",
       "        vertical-align: top;\n",
       "    }\n",
       "\n",
       "    .dataframe thead th {\n",
       "        text-align: right;\n",
       "    }\n",
       "</style>\n",
       "<table border=\"1\" class=\"dataframe\">\n",
       "  <thead>\n",
       "    <tr style=\"text-align: right;\">\n",
       "      <th></th>\n",
       "      <th>id</th>\n",
       "      <th>imdb_id</th>\n",
       "      <th>popularity</th>\n",
       "      <th>budget</th>\n",
       "      <th>revenue</th>\n",
       "      <th>original_title</th>\n",
       "      <th>cast</th>\n",
       "      <th>homepage</th>\n",
       "      <th>director</th>\n",
       "      <th>tagline</th>\n",
       "      <th>...</th>\n",
       "      <th>overview</th>\n",
       "      <th>runtime</th>\n",
       "      <th>genres</th>\n",
       "      <th>production_companies</th>\n",
       "      <th>release_date</th>\n",
       "      <th>vote_count</th>\n",
       "      <th>vote_average</th>\n",
       "      <th>release_year</th>\n",
       "      <th>budget_adj</th>\n",
       "      <th>revenue_adj</th>\n",
       "    </tr>\n",
       "  </thead>\n",
       "  <tbody>\n",
       "    <tr>\n",
       "      <th>0</th>\n",
       "      <td>135397</td>\n",
       "      <td>tt0369610</td>\n",
       "      <td>32.985763</td>\n",
       "      <td>150000000</td>\n",
       "      <td>1513528810</td>\n",
       "      <td>Jurassic World</td>\n",
       "      <td>Chris Pratt|Bryce Dallas Howard|Irrfan Khan|Vi...</td>\n",
       "      <td>http://www.jurassicworld.com/</td>\n",
       "      <td>Colin Trevorrow</td>\n",
       "      <td>The park is open.</td>\n",
       "      <td>...</td>\n",
       "      <td>Twenty-two years after the events of Jurassic ...</td>\n",
       "      <td>124</td>\n",
       "      <td>Action|Adventure|Science Fiction|Thriller</td>\n",
       "      <td>Universal Studios|Amblin Entertainment|Legenda...</td>\n",
       "      <td>6/9/15</td>\n",
       "      <td>5562</td>\n",
       "      <td>6.5</td>\n",
       "      <td>2015</td>\n",
       "      <td>1.379999e+08</td>\n",
       "      <td>1.392446e+09</td>\n",
       "    </tr>\n",
       "    <tr>\n",
       "      <th>1</th>\n",
       "      <td>76341</td>\n",
       "      <td>tt1392190</td>\n",
       "      <td>28.419936</td>\n",
       "      <td>150000000</td>\n",
       "      <td>378436354</td>\n",
       "      <td>Mad Max: Fury Road</td>\n",
       "      <td>Tom Hardy|Charlize Theron|Hugh Keays-Byrne|Nic...</td>\n",
       "      <td>http://www.madmaxmovie.com/</td>\n",
       "      <td>George Miller</td>\n",
       "      <td>What a Lovely Day.</td>\n",
       "      <td>...</td>\n",
       "      <td>An apocalyptic story set in the furthest reach...</td>\n",
       "      <td>120</td>\n",
       "      <td>Action|Adventure|Science Fiction|Thriller</td>\n",
       "      <td>Village Roadshow Pictures|Kennedy Miller Produ...</td>\n",
       "      <td>5/13/15</td>\n",
       "      <td>6185</td>\n",
       "      <td>7.1</td>\n",
       "      <td>2015</td>\n",
       "      <td>1.379999e+08</td>\n",
       "      <td>3.481613e+08</td>\n",
       "    </tr>\n",
       "    <tr>\n",
       "      <th>2</th>\n",
       "      <td>262500</td>\n",
       "      <td>tt2908446</td>\n",
       "      <td>13.112507</td>\n",
       "      <td>110000000</td>\n",
       "      <td>295238201</td>\n",
       "      <td>Insurgent</td>\n",
       "      <td>Shailene Woodley|Theo James|Kate Winslet|Ansel...</td>\n",
       "      <td>http://www.thedivergentseries.movie/#insurgent</td>\n",
       "      <td>Robert Schwentke</td>\n",
       "      <td>One Choice Can Destroy You</td>\n",
       "      <td>...</td>\n",
       "      <td>Beatrice Prior must confront her inner demons ...</td>\n",
       "      <td>119</td>\n",
       "      <td>Adventure|Science Fiction|Thriller</td>\n",
       "      <td>Summit Entertainment|Mandeville Films|Red Wago...</td>\n",
       "      <td>3/18/15</td>\n",
       "      <td>2480</td>\n",
       "      <td>6.3</td>\n",
       "      <td>2015</td>\n",
       "      <td>1.012000e+08</td>\n",
       "      <td>2.716190e+08</td>\n",
       "    </tr>\n",
       "  </tbody>\n",
       "</table>\n",
       "<p>3 rows × 21 columns</p>\n",
       "</div>"
      ],
      "text/plain": [
       "       id    imdb_id  popularity     budget     revenue      original_title  \\\n",
       "0  135397  tt0369610   32.985763  150000000  1513528810      Jurassic World   \n",
       "1   76341  tt1392190   28.419936  150000000   378436354  Mad Max: Fury Road   \n",
       "2  262500  tt2908446   13.112507  110000000   295238201           Insurgent   \n",
       "\n",
       "                                                cast  \\\n",
       "0  Chris Pratt|Bryce Dallas Howard|Irrfan Khan|Vi...   \n",
       "1  Tom Hardy|Charlize Theron|Hugh Keays-Byrne|Nic...   \n",
       "2  Shailene Woodley|Theo James|Kate Winslet|Ansel...   \n",
       "\n",
       "                                         homepage          director  \\\n",
       "0                   http://www.jurassicworld.com/   Colin Trevorrow   \n",
       "1                     http://www.madmaxmovie.com/     George Miller   \n",
       "2  http://www.thedivergentseries.movie/#insurgent  Robert Schwentke   \n",
       "\n",
       "                      tagline  ...  \\\n",
       "0           The park is open.  ...   \n",
       "1          What a Lovely Day.  ...   \n",
       "2  One Choice Can Destroy You  ...   \n",
       "\n",
       "                                            overview runtime  \\\n",
       "0  Twenty-two years after the events of Jurassic ...     124   \n",
       "1  An apocalyptic story set in the furthest reach...     120   \n",
       "2  Beatrice Prior must confront her inner demons ...     119   \n",
       "\n",
       "                                      genres  \\\n",
       "0  Action|Adventure|Science Fiction|Thriller   \n",
       "1  Action|Adventure|Science Fiction|Thriller   \n",
       "2         Adventure|Science Fiction|Thriller   \n",
       "\n",
       "                                production_companies release_date vote_count  \\\n",
       "0  Universal Studios|Amblin Entertainment|Legenda...       6/9/15       5562   \n",
       "1  Village Roadshow Pictures|Kennedy Miller Produ...      5/13/15       6185   \n",
       "2  Summit Entertainment|Mandeville Films|Red Wago...      3/18/15       2480   \n",
       "\n",
       "   vote_average  release_year    budget_adj   revenue_adj  \n",
       "0           6.5          2015  1.379999e+08  1.392446e+09  \n",
       "1           7.1          2015  1.379999e+08  3.481613e+08  \n",
       "2           6.3          2015  1.012000e+08  2.716190e+08  \n",
       "\n",
       "[3 rows x 21 columns]"
      ]
     },
     "execution_count": 3,
     "metadata": {},
     "output_type": "execute_result"
    }
   ],
   "source": [
    "#   types and look for instances of missing or possibly errant data.\n",
    "df.head(3)"
   ]
  },
  {
   "cell_type": "code",
   "execution_count": 4,
   "metadata": {},
   "outputs": [
    {
     "data": {
      "text/plain": [
       "(10866, 21)"
      ]
     },
     "execution_count": 4,
     "metadata": {},
     "output_type": "execute_result"
    }
   ],
   "source": [
    "#Find the shape of the dataset( Number of rows and Columns)\n",
    "df.shape"
   ]
  },
  {
   "cell_type": "code",
   "execution_count": 5,
   "metadata": {},
   "outputs": [
    {
     "name": "stdout",
     "output_type": "stream",
     "text": [
      "<class 'pandas.core.frame.DataFrame'>\n",
      "RangeIndex: 10866 entries, 0 to 10865\n",
      "Data columns (total 21 columns):\n",
      " #   Column                Non-Null Count  Dtype  \n",
      "---  ------                --------------  -----  \n",
      " 0   id                    10866 non-null  int64  \n",
      " 1   imdb_id               10856 non-null  object \n",
      " 2   popularity            10866 non-null  float64\n",
      " 3   budget                10866 non-null  int64  \n",
      " 4   revenue               10866 non-null  int64  \n",
      " 5   original_title        10866 non-null  object \n",
      " 6   cast                  10790 non-null  object \n",
      " 7   homepage              2936 non-null   object \n",
      " 8   director              10822 non-null  object \n",
      " 9   tagline               8042 non-null   object \n",
      " 10  keywords              9373 non-null   object \n",
      " 11  overview              10862 non-null  object \n",
      " 12  runtime               10866 non-null  int64  \n",
      " 13  genres                10843 non-null  object \n",
      " 14  production_companies  9836 non-null   object \n",
      " 15  release_date          10866 non-null  object \n",
      " 16  vote_count            10866 non-null  int64  \n",
      " 17  vote_average          10866 non-null  float64\n",
      " 18  release_year          10866 non-null  int64  \n",
      " 19  budget_adj            10866 non-null  float64\n",
      " 20  revenue_adj           10866 non-null  float64\n",
      "dtypes: float64(4), int64(6), object(11)\n",
      "memory usage: 1.7+ MB\n"
     ]
    }
   ],
   "source": [
    "#Getting detail information about our dataset \n",
    "df.info()"
   ]
  },
  {
   "cell_type": "markdown",
   "metadata": {},
   "source": [
    "\n",
    "### Data Cleaning \n",
    "\n",
    ">We will remove Null value data, duplicates, uncessary columns and  outlier raw datas"
   ]
  },
  {
   "cell_type": "code",
   "execution_count": 6,
   "metadata": {},
   "outputs": [
    {
     "data": {
      "text/plain": [
       "homepage                7930\n",
       "tagline                 2824\n",
       "keywords                1493\n",
       "production_companies    1030\n",
       "cast                      76\n",
       "director                  44\n",
       "genres                    23\n",
       "imdb_id                   10\n",
       "overview                   4\n",
       "budget_adj                 0\n",
       "release_year               0\n",
       "vote_average               0\n",
       "vote_count                 0\n",
       "release_date               0\n",
       "id                         0\n",
       "runtime                    0\n",
       "original_title             0\n",
       "revenue                    0\n",
       "budget                     0\n",
       "popularity                 0\n",
       "revenue_adj                0\n",
       "dtype: int64"
      ]
     },
     "execution_count": 6,
     "metadata": {},
     "output_type": "execute_result"
    }
   ],
   "source": [
    "# list the nulll values from the  movie data\n",
    "df.isnull().sum(axis=0).sort_values(ascending=False)"
   ]
  },
  {
   "cell_type": "code",
   "execution_count": 7,
   "metadata": {},
   "outputs": [
    {
     "data": {
      "text/plain": [
       "homepage                72.979937\n",
       "tagline                 25.989324\n",
       "keywords                13.740107\n",
       "production_companies     9.479109\n",
       "cast                     0.699429\n",
       "director                 0.404933\n",
       "genres                   0.211669\n",
       "imdb_id                  0.092030\n",
       "overview                 0.036812\n",
       "budget_adj               0.000000\n",
       "release_year             0.000000\n",
       "vote_average             0.000000\n",
       "vote_count               0.000000\n",
       "release_date             0.000000\n",
       "id                       0.000000\n",
       "runtime                  0.000000\n",
       "original_title           0.000000\n",
       "revenue                  0.000000\n",
       "budget                   0.000000\n",
       "popularity               0.000000\n",
       "revenue_adj              0.000000\n",
       "dtype: float64"
      ]
     },
     "execution_count": 7,
     "metadata": {},
     "output_type": "execute_result"
    }
   ],
   "source": [
    "# column-wise null percentages here\n",
    "df.isnull().sum(axis=0).sort_values(ascending=False)/len(df) * 100"
   ]
  },
  {
   "cell_type": "code",
   "execution_count": 8,
   "metadata": {},
   "outputs": [],
   "source": [
    "# genres raw is essential for our data analysis and we have to remove the null value raws of genres         \n",
    "df.dropna(how='any', subset=['genres'], inplace=True)"
   ]
  },
  {
   "cell_type": "code",
   "execution_count": 9,
   "metadata": {},
   "outputs": [],
   "source": [
    "# removing non useful collumns for data analysis including \n",
    "# homepage, tagline ,imdb_id, overview, and keywords, cast, and production_companies columns \n",
    "df.drop(columns = ['homepage','tagline','keywords','production_companies','imdb_id','cast','overview',], inplace=True) "
   ]
  },
  {
   "cell_type": "code",
   "execution_count": 10,
   "metadata": {
    "scrolled": false
   },
   "outputs": [
    {
     "data": {
      "text/html": [
       "<div>\n",
       "<style scoped>\n",
       "    .dataframe tbody tr th:only-of-type {\n",
       "        vertical-align: middle;\n",
       "    }\n",
       "\n",
       "    .dataframe tbody tr th {\n",
       "        vertical-align: top;\n",
       "    }\n",
       "\n",
       "    .dataframe thead th {\n",
       "        text-align: right;\n",
       "    }\n",
       "</style>\n",
       "<table border=\"1\" class=\"dataframe\">\n",
       "  <thead>\n",
       "    <tr style=\"text-align: right;\">\n",
       "      <th></th>\n",
       "      <th>id</th>\n",
       "      <th>popularity</th>\n",
       "      <th>budget</th>\n",
       "      <th>revenue</th>\n",
       "      <th>runtime</th>\n",
       "      <th>vote_count</th>\n",
       "      <th>vote_average</th>\n",
       "      <th>release_year</th>\n",
       "      <th>budget_adj</th>\n",
       "      <th>revenue_adj</th>\n",
       "    </tr>\n",
       "  </thead>\n",
       "  <tbody>\n",
       "    <tr>\n",
       "      <th>count</th>\n",
       "      <td>10843.000000</td>\n",
       "      <td>10843.000000</td>\n",
       "      <td>1.084300e+04</td>\n",
       "      <td>1.084300e+04</td>\n",
       "      <td>10843.000000</td>\n",
       "      <td>10843.000000</td>\n",
       "      <td>10843.000000</td>\n",
       "      <td>10843.000000</td>\n",
       "      <td>1.084300e+04</td>\n",
       "      <td>1.084300e+04</td>\n",
       "    </tr>\n",
       "    <tr>\n",
       "      <th>mean</th>\n",
       "      <td>65868.491930</td>\n",
       "      <td>0.647456</td>\n",
       "      <td>1.465672e+07</td>\n",
       "      <td>3.990779e+07</td>\n",
       "      <td>102.137508</td>\n",
       "      <td>217.813705</td>\n",
       "      <td>5.973974</td>\n",
       "      <td>2001.315595</td>\n",
       "      <td>1.758827e+07</td>\n",
       "      <td>5.147332e+07</td>\n",
       "    </tr>\n",
       "    <tr>\n",
       "      <th>std</th>\n",
       "      <td>91977.394803</td>\n",
       "      <td>1.000986</td>\n",
       "      <td>3.093864e+07</td>\n",
       "      <td>1.171131e+08</td>\n",
       "      <td>31.293320</td>\n",
       "      <td>576.155351</td>\n",
       "      <td>0.934260</td>\n",
       "      <td>12.813298</td>\n",
       "      <td>3.433299e+07</td>\n",
       "      <td>1.447664e+08</td>\n",
       "    </tr>\n",
       "    <tr>\n",
       "      <th>min</th>\n",
       "      <td>5.000000</td>\n",
       "      <td>0.000065</td>\n",
       "      <td>0.000000e+00</td>\n",
       "      <td>0.000000e+00</td>\n",
       "      <td>0.000000</td>\n",
       "      <td>10.000000</td>\n",
       "      <td>1.500000</td>\n",
       "      <td>1960.000000</td>\n",
       "      <td>0.000000e+00</td>\n",
       "      <td>0.000000e+00</td>\n",
       "    </tr>\n",
       "    <tr>\n",
       "      <th>25%</th>\n",
       "      <td>10589.500000</td>\n",
       "      <td>0.208253</td>\n",
       "      <td>0.000000e+00</td>\n",
       "      <td>0.000000e+00</td>\n",
       "      <td>90.000000</td>\n",
       "      <td>17.000000</td>\n",
       "      <td>5.400000</td>\n",
       "      <td>1995.000000</td>\n",
       "      <td>0.000000e+00</td>\n",
       "      <td>0.000000e+00</td>\n",
       "    </tr>\n",
       "    <tr>\n",
       "      <th>50%</th>\n",
       "      <td>20558.000000</td>\n",
       "      <td>0.384555</td>\n",
       "      <td>0.000000e+00</td>\n",
       "      <td>0.000000e+00</td>\n",
       "      <td>99.000000</td>\n",
       "      <td>38.000000</td>\n",
       "      <td>6.000000</td>\n",
       "      <td>2006.000000</td>\n",
       "      <td>0.000000e+00</td>\n",
       "      <td>0.000000e+00</td>\n",
       "    </tr>\n",
       "    <tr>\n",
       "      <th>75%</th>\n",
       "      <td>75182.000000</td>\n",
       "      <td>0.715349</td>\n",
       "      <td>1.500000e+07</td>\n",
       "      <td>2.413675e+07</td>\n",
       "      <td>111.000000</td>\n",
       "      <td>146.000000</td>\n",
       "      <td>6.600000</td>\n",
       "      <td>2011.000000</td>\n",
       "      <td>2.093530e+07</td>\n",
       "      <td>3.387655e+07</td>\n",
       "    </tr>\n",
       "    <tr>\n",
       "      <th>max</th>\n",
       "      <td>417859.000000</td>\n",
       "      <td>32.985763</td>\n",
       "      <td>4.250000e+08</td>\n",
       "      <td>2.781506e+09</td>\n",
       "      <td>900.000000</td>\n",
       "      <td>9767.000000</td>\n",
       "      <td>9.200000</td>\n",
       "      <td>2015.000000</td>\n",
       "      <td>4.250000e+08</td>\n",
       "      <td>2.827124e+09</td>\n",
       "    </tr>\n",
       "  </tbody>\n",
       "</table>\n",
       "</div>"
      ],
      "text/plain": [
       "                  id    popularity        budget       revenue       runtime  \\\n",
       "count   10843.000000  10843.000000  1.084300e+04  1.084300e+04  10843.000000   \n",
       "mean    65868.491930      0.647456  1.465672e+07  3.990779e+07    102.137508   \n",
       "std     91977.394803      1.000986  3.093864e+07  1.171131e+08     31.293320   \n",
       "min         5.000000      0.000065  0.000000e+00  0.000000e+00      0.000000   \n",
       "25%     10589.500000      0.208253  0.000000e+00  0.000000e+00     90.000000   \n",
       "50%     20558.000000      0.384555  0.000000e+00  0.000000e+00     99.000000   \n",
       "75%     75182.000000      0.715349  1.500000e+07  2.413675e+07    111.000000   \n",
       "max    417859.000000     32.985763  4.250000e+08  2.781506e+09    900.000000   \n",
       "\n",
       "         vote_count  vote_average  release_year    budget_adj   revenue_adj  \n",
       "count  10843.000000  10843.000000  10843.000000  1.084300e+04  1.084300e+04  \n",
       "mean     217.813705      5.973974   2001.315595  1.758827e+07  5.147332e+07  \n",
       "std      576.155351      0.934260     12.813298  3.433299e+07  1.447664e+08  \n",
       "min       10.000000      1.500000   1960.000000  0.000000e+00  0.000000e+00  \n",
       "25%       17.000000      5.400000   1995.000000  0.000000e+00  0.000000e+00  \n",
       "50%       38.000000      6.000000   2006.000000  0.000000e+00  0.000000e+00  \n",
       "75%      146.000000      6.600000   2011.000000  2.093530e+07  3.387655e+07  \n",
       "max     9767.000000      9.200000   2015.000000  4.250000e+08  2.827124e+09  "
      ]
     },
     "execution_count": 10,
     "metadata": {},
     "output_type": "execute_result"
    }
   ],
   "source": [
    "df.describe()"
   ]
  },
  {
   "cell_type": "code",
   "execution_count": 11,
   "metadata": {},
   "outputs": [],
   "source": [
    "# From  the above collumn we can see that more than 50% of the adjusted revenue collumn data is to 0.0 \n",
    "# We will drop the 0.0 value  rows of the adjusted revenue\n",
    "\n",
    "revenuedf=df.drop(df.index[df['revenue_adj'] ==0.0])"
   ]
  },
  {
   "cell_type": "code",
   "execution_count": 12,
   "metadata": {},
   "outputs": [
    {
     "data": {
      "text/html": [
       "<div>\n",
       "<style scoped>\n",
       "    .dataframe tbody tr th:only-of-type {\n",
       "        vertical-align: middle;\n",
       "    }\n",
       "\n",
       "    .dataframe tbody tr th {\n",
       "        vertical-align: top;\n",
       "    }\n",
       "\n",
       "    .dataframe thead th {\n",
       "        text-align: right;\n",
       "    }\n",
       "</style>\n",
       "<table border=\"1\" class=\"dataframe\">\n",
       "  <thead>\n",
       "    <tr style=\"text-align: right;\">\n",
       "      <th></th>\n",
       "      <th>id</th>\n",
       "      <th>popularity</th>\n",
       "      <th>budget</th>\n",
       "      <th>revenue</th>\n",
       "      <th>runtime</th>\n",
       "      <th>vote_count</th>\n",
       "      <th>vote_average</th>\n",
       "      <th>release_year</th>\n",
       "      <th>budget_adj</th>\n",
       "      <th>revenue_adj</th>\n",
       "    </tr>\n",
       "  </thead>\n",
       "  <tbody>\n",
       "    <tr>\n",
       "      <th>count</th>\n",
       "      <td>4850.000000</td>\n",
       "      <td>4850.000000</td>\n",
       "      <td>4.850000e+03</td>\n",
       "      <td>4.850000e+03</td>\n",
       "      <td>4850.000000</td>\n",
       "      <td>4850.000000</td>\n",
       "      <td>4850.000000</td>\n",
       "      <td>4850.000000</td>\n",
       "      <td>4.850000e+03</td>\n",
       "      <td>4.850000e+03</td>\n",
       "    </tr>\n",
       "    <tr>\n",
       "      <th>mean</th>\n",
       "      <td>44575.000619</td>\n",
       "      <td>1.045109</td>\n",
       "      <td>2.956970e+07</td>\n",
       "      <td>8.922066e+07</td>\n",
       "      <td>107.964742</td>\n",
       "      <td>436.215876</td>\n",
       "      <td>6.148763</td>\n",
       "      <td>2000.921649</td>\n",
       "      <td>3.516102e+07</td>\n",
       "      <td>1.150774e+08</td>\n",
       "    </tr>\n",
       "    <tr>\n",
       "      <th>std</th>\n",
       "      <td>72361.405911</td>\n",
       "      <td>1.356628</td>\n",
       "      <td>4.051343e+07</td>\n",
       "      <td>1.620684e+08</td>\n",
       "      <td>21.112847</td>\n",
       "      <td>806.416200</td>\n",
       "      <td>0.798795</td>\n",
       "      <td>11.569192</td>\n",
       "      <td>4.375672e+07</td>\n",
       "      <td>1.988419e+08</td>\n",
       "    </tr>\n",
       "    <tr>\n",
       "      <th>min</th>\n",
       "      <td>5.000000</td>\n",
       "      <td>0.001117</td>\n",
       "      <td>0.000000e+00</td>\n",
       "      <td>2.000000e+00</td>\n",
       "      <td>15.000000</td>\n",
       "      <td>10.000000</td>\n",
       "      <td>2.100000</td>\n",
       "      <td>1960.000000</td>\n",
       "      <td>0.000000e+00</td>\n",
       "      <td>2.370705e+00</td>\n",
       "    </tr>\n",
       "    <tr>\n",
       "      <th>25%</th>\n",
       "      <td>8286.000000</td>\n",
       "      <td>0.387754</td>\n",
       "      <td>1.700000e+06</td>\n",
       "      <td>7.708081e+06</td>\n",
       "      <td>95.000000</td>\n",
       "      <td>46.000000</td>\n",
       "      <td>5.600000</td>\n",
       "      <td>1994.000000</td>\n",
       "      <td>2.332078e+06</td>\n",
       "      <td>1.046262e+07</td>\n",
       "    </tr>\n",
       "    <tr>\n",
       "      <th>50%</th>\n",
       "      <td>12154.500000</td>\n",
       "      <td>0.680289</td>\n",
       "      <td>1.500000e+07</td>\n",
       "      <td>3.182654e+07</td>\n",
       "      <td>104.000000</td>\n",
       "      <td>147.000000</td>\n",
       "      <td>6.200000</td>\n",
       "      <td>2004.000000</td>\n",
       "      <td>2.032801e+07</td>\n",
       "      <td>4.392749e+07</td>\n",
       "    </tr>\n",
       "    <tr>\n",
       "      <th>75%</th>\n",
       "      <td>43956.500000</td>\n",
       "      <td>1.210457</td>\n",
       "      <td>4.000000e+07</td>\n",
       "      <td>9.991823e+07</td>\n",
       "      <td>117.000000</td>\n",
       "      <td>435.000000</td>\n",
       "      <td>6.700000</td>\n",
       "      <td>2010.000000</td>\n",
       "      <td>4.973516e+07</td>\n",
       "      <td>1.315644e+08</td>\n",
       "    </tr>\n",
       "    <tr>\n",
       "      <th>max</th>\n",
       "      <td>417859.000000</td>\n",
       "      <td>32.985763</td>\n",
       "      <td>4.250000e+08</td>\n",
       "      <td>2.781506e+09</td>\n",
       "      <td>705.000000</td>\n",
       "      <td>9767.000000</td>\n",
       "      <td>8.400000</td>\n",
       "      <td>2015.000000</td>\n",
       "      <td>4.250000e+08</td>\n",
       "      <td>2.827124e+09</td>\n",
       "    </tr>\n",
       "  </tbody>\n",
       "</table>\n",
       "</div>"
      ],
      "text/plain": [
       "                  id   popularity        budget       revenue      runtime  \\\n",
       "count    4850.000000  4850.000000  4.850000e+03  4.850000e+03  4850.000000   \n",
       "mean    44575.000619     1.045109  2.956970e+07  8.922066e+07   107.964742   \n",
       "std     72361.405911     1.356628  4.051343e+07  1.620684e+08    21.112847   \n",
       "min         5.000000     0.001117  0.000000e+00  2.000000e+00    15.000000   \n",
       "25%      8286.000000     0.387754  1.700000e+06  7.708081e+06    95.000000   \n",
       "50%     12154.500000     0.680289  1.500000e+07  3.182654e+07   104.000000   \n",
       "75%     43956.500000     1.210457  4.000000e+07  9.991823e+07   117.000000   \n",
       "max    417859.000000    32.985763  4.250000e+08  2.781506e+09   705.000000   \n",
       "\n",
       "        vote_count  vote_average  release_year    budget_adj   revenue_adj  \n",
       "count  4850.000000   4850.000000   4850.000000  4.850000e+03  4.850000e+03  \n",
       "mean    436.215876      6.148763   2000.921649  3.516102e+07  1.150774e+08  \n",
       "std     806.416200      0.798795     11.569192  4.375672e+07  1.988419e+08  \n",
       "min      10.000000      2.100000   1960.000000  0.000000e+00  2.370705e+00  \n",
       "25%      46.000000      5.600000   1994.000000  2.332078e+06  1.046262e+07  \n",
       "50%     147.000000      6.200000   2004.000000  2.032801e+07  4.392749e+07  \n",
       "75%     435.000000      6.700000   2010.000000  4.973516e+07  1.315644e+08  \n",
       "max    9767.000000      8.400000   2015.000000  4.250000e+08  2.827124e+09  "
      ]
     },
     "execution_count": 12,
     "metadata": {},
     "output_type": "execute_result"
    }
   ],
   "source": [
    "revenuedf.describe()"
   ]
  },
  {
   "cell_type": "code",
   "execution_count": 13,
   "metadata": {},
   "outputs": [
    {
     "name": "stdout",
     "output_type": "stream",
     "text": [
      "<class 'pandas.core.frame.DataFrame'>\n",
      "Int64Index: 4850 entries, 0 to 10848\n",
      "Data columns (total 14 columns):\n",
      " #   Column          Non-Null Count  Dtype  \n",
      "---  ------          --------------  -----  \n",
      " 0   id              4850 non-null   int64  \n",
      " 1   popularity      4850 non-null   float64\n",
      " 2   budget          4850 non-null   int64  \n",
      " 3   revenue         4850 non-null   int64  \n",
      " 4   original_title  4850 non-null   object \n",
      " 5   director        4849 non-null   object \n",
      " 6   runtime         4850 non-null   int64  \n",
      " 7   genres          4850 non-null   object \n",
      " 8   release_date    4850 non-null   object \n",
      " 9   vote_count      4850 non-null   int64  \n",
      " 10  vote_average    4850 non-null   float64\n",
      " 11  release_year    4850 non-null   int64  \n",
      " 12  budget_adj      4850 non-null   float64\n",
      " 13  revenue_adj     4850 non-null   float64\n",
      "dtypes: float64(4), int64(6), object(4)\n",
      "memory usage: 568.4+ KB\n"
     ]
    }
   ],
   "source": [
    "#  read the avalible columns and rows after removing the above collumns \n",
    "revenuedf.info() "
   ]
  },
  {
   "cell_type": "code",
   "execution_count": 14,
   "metadata": {},
   "outputs": [
    {
     "data": {
      "text/plain": [
       "1"
      ]
     },
     "execution_count": 14,
     "metadata": {},
     "output_type": "execute_result"
    }
   ],
   "source": [
    "#No duplicated row \n",
    "df.duplicated().sum()"
   ]
  },
  {
   "cell_type": "code",
   "execution_count": 15,
   "metadata": {},
   "outputs": [
    {
     "name": "stdout",
     "output_type": "stream",
     "text": [
      "After removing the duplicate values (Rows,Columns) :  (10843, 14)\n"
     ]
    }
   ],
   "source": [
    "#We have one duplicate values and we have drop the duplicate row as true\n",
    "print(\"After removing the duplicate values (Rows,Columns) : \",df.shape)"
   ]
  },
  {
   "cell_type": "code",
   "execution_count": 16,
   "metadata": {},
   "outputs": [
    {
     "data": {
      "text/html": [
       "<div>\n",
       "<style scoped>\n",
       "    .dataframe tbody tr th:only-of-type {\n",
       "        vertical-align: middle;\n",
       "    }\n",
       "\n",
       "    .dataframe tbody tr th {\n",
       "        vertical-align: top;\n",
       "    }\n",
       "\n",
       "    .dataframe thead th {\n",
       "        text-align: right;\n",
       "    }\n",
       "</style>\n",
       "<table border=\"1\" class=\"dataframe\">\n",
       "  <thead>\n",
       "    <tr style=\"text-align: right;\">\n",
       "      <th></th>\n",
       "      <th>id</th>\n",
       "      <th>popularity</th>\n",
       "      <th>budget</th>\n",
       "      <th>revenue</th>\n",
       "      <th>original_title</th>\n",
       "      <th>director</th>\n",
       "      <th>runtime</th>\n",
       "      <th>genres</th>\n",
       "      <th>release_date</th>\n",
       "      <th>vote_count</th>\n",
       "      <th>vote_average</th>\n",
       "      <th>release_year</th>\n",
       "      <th>budget_adj</th>\n",
       "      <th>revenue_adj</th>\n",
       "    </tr>\n",
       "  </thead>\n",
       "  <tbody>\n",
       "    <tr>\n",
       "      <th>0</th>\n",
       "      <td>135397</td>\n",
       "      <td>32.985763</td>\n",
       "      <td>150000000</td>\n",
       "      <td>1513528810</td>\n",
       "      <td>Jurassic World</td>\n",
       "      <td>Colin Trevorrow</td>\n",
       "      <td>124</td>\n",
       "      <td>Action|Adventure|Science Fiction|Thriller</td>\n",
       "      <td>6/9/15</td>\n",
       "      <td>5562</td>\n",
       "      <td>6.5</td>\n",
       "      <td>2015</td>\n",
       "      <td>1.379999e+08</td>\n",
       "      <td>1.392446e+09</td>\n",
       "    </tr>\n",
       "    <tr>\n",
       "      <th>1</th>\n",
       "      <td>76341</td>\n",
       "      <td>28.419936</td>\n",
       "      <td>150000000</td>\n",
       "      <td>378436354</td>\n",
       "      <td>Mad Max: Fury Road</td>\n",
       "      <td>George Miller</td>\n",
       "      <td>120</td>\n",
       "      <td>Action|Adventure|Science Fiction|Thriller</td>\n",
       "      <td>5/13/15</td>\n",
       "      <td>6185</td>\n",
       "      <td>7.1</td>\n",
       "      <td>2015</td>\n",
       "      <td>1.379999e+08</td>\n",
       "      <td>3.481613e+08</td>\n",
       "    </tr>\n",
       "    <tr>\n",
       "      <th>2</th>\n",
       "      <td>262500</td>\n",
       "      <td>13.112507</td>\n",
       "      <td>110000000</td>\n",
       "      <td>295238201</td>\n",
       "      <td>Insurgent</td>\n",
       "      <td>Robert Schwentke</td>\n",
       "      <td>119</td>\n",
       "      <td>Adventure|Science Fiction|Thriller</td>\n",
       "      <td>3/18/15</td>\n",
       "      <td>2480</td>\n",
       "      <td>6.3</td>\n",
       "      <td>2015</td>\n",
       "      <td>1.012000e+08</td>\n",
       "      <td>2.716190e+08</td>\n",
       "    </tr>\n",
       "  </tbody>\n",
       "</table>\n",
       "</div>"
      ],
      "text/plain": [
       "       id  popularity     budget     revenue      original_title  \\\n",
       "0  135397   32.985763  150000000  1513528810      Jurassic World   \n",
       "1   76341   28.419936  150000000   378436354  Mad Max: Fury Road   \n",
       "2  262500   13.112507  110000000   295238201           Insurgent   \n",
       "\n",
       "           director  runtime                                     genres  \\\n",
       "0   Colin Trevorrow      124  Action|Adventure|Science Fiction|Thriller   \n",
       "1     George Miller      120  Action|Adventure|Science Fiction|Thriller   \n",
       "2  Robert Schwentke      119         Adventure|Science Fiction|Thriller   \n",
       "\n",
       "  release_date  vote_count  vote_average  release_year    budget_adj  \\\n",
       "0       6/9/15        5562           6.5          2015  1.379999e+08   \n",
       "1      5/13/15        6185           7.1          2015  1.379999e+08   \n",
       "2      3/18/15        2480           6.3          2015  1.012000e+08   \n",
       "\n",
       "    revenue_adj  \n",
       "0  1.392446e+09  \n",
       "1  3.481613e+08  \n",
       "2  2.716190e+08  "
      ]
     },
     "execution_count": 16,
     "metadata": {},
     "output_type": "execute_result"
    }
   ],
   "source": [
    "revenuedf.head(3)"
   ]
  },
  {
   "cell_type": "markdown",
   "metadata": {},
   "source": [
    "<strong> we have cleaned the data and we will go further analysis  <strong>"
   ]
  },
  {
   "cell_type": "markdown",
   "metadata": {},
   "source": [
    "<a id='eda'></a>\n",
    "## Exploratory Data Analysis\n",
    "\n",
    "\n",
    "\n",
    "###  Question 1 Which genres are most popular from year to year? "
   ]
  },
  {
   "cell_type": "code",
   "execution_count": 17,
   "metadata": {},
   "outputs": [
    {
     "data": {
      "text/plain": [
       "count    10843.000000\n",
       "mean         0.647456\n",
       "std          1.000986\n",
       "min          0.000065\n",
       "25%          0.208253\n",
       "50%          0.384555\n",
       "75%          0.715349\n",
       "max         32.985763\n",
       "Name: popularity, dtype: float64"
      ]
     },
     "execution_count": 17,
     "metadata": {},
     "output_type": "execute_result"
    }
   ],
   "source": [
    "df['popularity'].describe()"
   ]
  },
  {
   "cell_type": "markdown",
   "metadata": {},
   "source": [
    "<strong> we can see that majority of the popularit is  1. Those movies popularit with higher than 1 are more popular <strong>"
   ]
  },
  {
   "cell_type": "code",
   "execution_count": 18,
   "metadata": {
    "scrolled": true
   },
   "outputs": [
    {
     "data": {
      "image/png": "[encoded data removed]",
      "text/plain": [
       "<Figure size 432x288 with 1 Axes>"
      ]
     },
     "metadata": {
      "needs_background": "light"
     },
     "output_type": "display_data"
    }
   ],
   "source": [
    "# visualizing the popularity data\n",
    "df.popularity.hist();"
   ]
  },
  {
   "cell_type": "markdown",
   "metadata": {},
   "source": [
    "<strong> Genres row has more than one values and for better analysis we will separate its comumn and create each row for each genre and perform the calculation.<strong> "
   ]
  },
  {
   "cell_type": "code",
   "execution_count": 19,
   "metadata": {},
   "outputs": [],
   "source": [
    "# separate the genres which is separated by \n",
    "df.genres = df.genres.str.split('|')"
   ]
  },
  {
   "cell_type": "code",
   "execution_count": 20,
   "metadata": {},
   "outputs": [],
   "source": [
    "# create genre list( create each row for each gen) using explode \n",
    "df = df.explode('genres')"
   ]
  },
  {
   "cell_type": "code",
   "execution_count": 21,
   "metadata": {},
   "outputs": [
    {
     "data": {
      "text/plain": [
       "release_year  release_year  genres         \n",
       "1960          1960          Thriller           0.811910\n",
       "1961          1961          Animation          2.631987\n",
       "1962          1962          Adventure          0.942513\n",
       "1963          1963          Animation          2.180410\n",
       "1964          1964          War                0.930959\n",
       "1965          1965          Music              0.968850\n",
       "1966          1966          Animation          0.585717\n",
       "1967          1967          Animation          1.348805\n",
       "1968          1968          Mystery            1.519456\n",
       "1969          1969          Crime              0.948020\n",
       "1970          1970          Animation          1.127719\n",
       "1971          1971          Family             1.530722\n",
       "1972          1972          Crime              1.072768\n",
       "1973          1973          Animation          0.956526\n",
       "1974          1974          Mystery            0.702035\n",
       "1975          1975          Adventure          0.880297\n",
       "1976          1976          Crime              0.707249\n",
       "1977          1977          Action             1.419319\n",
       "1978          1978          Music              0.679805\n",
       "1979          1979          Action             1.410014\n",
       "1980          1980          Science Fiction    0.897143\n",
       "1981          1981          Adventure          0.875815\n",
       "1982          1982          War                1.143182\n",
       "1983          1983          Adventure          0.900596\n",
       "1984          1984          Family             0.823924\n",
       "1985          1985          Family             0.924311\n",
       "1986          1986          Adventure          0.798935\n",
       "1987          1987          History            0.815643\n",
       "1988          1988          Action             0.599017\n",
       "1989          1989          Animation          1.177585\n",
       "1990          1990          Adventure          0.801768\n",
       "1991          1991          Animation          1.665002\n",
       "1992          1992          Animation          1.286893\n",
       "1993          1993          Fantasy            0.918601\n",
       "1994          1994          Crime              1.297888\n",
       "1995          1995          Animation          1.467780\n",
       "1996          1996          Crime              0.976838\n",
       "1997          1997          Science Fiction    1.140241\n",
       "1998          1998          War                1.246619\n",
       "1999          1999          Adventure          1.012306\n",
       "2000          2000          Adventure          0.854593\n",
       "2001          2001          Fantasy            1.565260\n",
       "2002          2002          Fantasy            1.430465\n",
       "2003          2003          Fantasy            1.747524\n",
       "2004          2004          Fantasy            1.320568\n",
       "2005          2005          Fantasy            1.117732\n",
       "2006          2006          Fantasy            1.023134\n",
       "2007          2007          Fantasy            0.957349\n",
       "2008          2008          Adventure          1.008385\n",
       "2009          2009          Adventure          1.138422\n",
       "2010          2010          Adventure          1.360319\n",
       "2011          2011          Western            1.175800\n",
       "2012          2012          Western            1.732778\n",
       "2013          2013          Adventure          1.260832\n",
       "2014          2014          Adventure          2.430526\n",
       "2015          2015          Adventure          3.283786\n",
       "Name: popularity, dtype: float64"
      ]
     },
     "execution_count": 21,
     "metadata": {},
     "output_type": "execute_result"
    }
   ],
   "source": [
    "# dispaly the release year, generes and popularity group by the release year.\n",
    "df.groupby(['release_year','genres'])['popularity'].mean().groupby(level='release_year').nlargest(1)"
   ]
  },
  {
   "cell_type": "code",
   "execution_count": 22,
   "metadata": {},
   "outputs": [],
   "source": [
    "# clean up the data by removing extra row index by reset index\n",
    "genredata = df.groupby(['release_year','genres'])['popularity'].mean().groupby(level='release_year').nlargest(1).reset_index(level=0, drop=True)"
   ]
  },
  {
   "cell_type": "code",
   "execution_count": 23,
   "metadata": {},
   "outputs": [],
   "source": [
    "# change the pandas series to pandas dataframe\n",
    "genredata = genredata.reset_index()"
   ]
  },
  {
   "cell_type": "code",
   "execution_count": 24,
   "metadata": {},
   "outputs": [
    {
     "data": {
      "text/html": [
       "<div>\n",
       "<style scoped>\n",
       "    .dataframe tbody tr th:only-of-type {\n",
       "        vertical-align: middle;\n",
       "    }\n",
       "\n",
       "    .dataframe tbody tr th {\n",
       "        vertical-align: top;\n",
       "    }\n",
       "\n",
       "    .dataframe thead th {\n",
       "        text-align: right;\n",
       "    }\n",
       "</style>\n",
       "<table border=\"1\" class=\"dataframe\">\n",
       "  <thead>\n",
       "    <tr style=\"text-align: right;\">\n",
       "      <th></th>\n",
       "      <th>release_year</th>\n",
       "      <th>genres</th>\n",
       "      <th>popularity</th>\n",
       "    </tr>\n",
       "  </thead>\n",
       "  <tbody>\n",
       "    <tr>\n",
       "      <th>0</th>\n",
       "      <td>1960</td>\n",
       "      <td>Thriller</td>\n",
       "      <td>0.811910</td>\n",
       "    </tr>\n",
       "    <tr>\n",
       "      <th>1</th>\n",
       "      <td>1961</td>\n",
       "      <td>Animation</td>\n",
       "      <td>2.631987</td>\n",
       "    </tr>\n",
       "    <tr>\n",
       "      <th>2</th>\n",
       "      <td>1962</td>\n",
       "      <td>Adventure</td>\n",
       "      <td>0.942513</td>\n",
       "    </tr>\n",
       "    <tr>\n",
       "      <th>3</th>\n",
       "      <td>1963</td>\n",
       "      <td>Animation</td>\n",
       "      <td>2.180410</td>\n",
       "    </tr>\n",
       "    <tr>\n",
       "      <th>4</th>\n",
       "      <td>1964</td>\n",
       "      <td>War</td>\n",
       "      <td>0.930959</td>\n",
       "    </tr>\n",
       "  </tbody>\n",
       "</table>\n",
       "</div>"
      ],
      "text/plain": [
       "   release_year     genres  popularity\n",
       "0          1960   Thriller    0.811910\n",
       "1          1961  Animation    2.631987\n",
       "2          1962  Adventure    0.942513\n",
       "3          1963  Animation    2.180410\n",
       "4          1964        War    0.930959"
      ]
     },
     "execution_count": 24,
     "metadata": {},
     "output_type": "execute_result"
    }
   ],
   "source": [
    "# display the table \n",
    "genredata.head()"
   ]
  },
  {
   "cell_type": "code",
   "execution_count": 25,
   "metadata": {
    "scrolled": false
   },
   "outputs": [
    {
     "data": {
      "text/plain": [
       "Text(0.5, 1.0, 'The most Popular genres of each year')"
      ]
     },
     "execution_count": 25,
     "metadata": {},
     "output_type": "execute_result"
    },
    {
     "data": {
      "image/png": "[encoded data removed]",
      "text/plain": [
       "<Figure size 432x288 with 1 Axes>"
      ]
     },
     "metadata": {
      "needs_background": "light"
     },
     "output_type": "display_data"
    }
   ],
   "source": [
    "# visualizing the data\n",
    "sns.scatterplot(x='release_year', y='popularity', data=genredata, hue='genres')\n",
    "#plt.legend(bbox_to_anchor=(1.05,1), loc=2)\n",
    "plt.legend(bbox_to_anchor=(1.05,1), loc=2)\n",
    "plt.title(\"The most Popular genres of each year\")"
   ]
  },
  {
   "cell_type": "code",
   "execution_count": 26,
   "metadata": {
    "scrolled": true
   },
   "outputs": [
    {
     "data": {
      "text/plain": [
       "Adventure          14\n",
       "Animation          10\n",
       "Fantasy             8\n",
       "Crime               5\n",
       "War                 3\n",
       "Family              3\n",
       "Action              3\n",
       "Music               2\n",
       "Mystery             2\n",
       "Science Fiction     2\n",
       "Western             2\n",
       "Thriller            1\n",
       "History             1\n",
       "Name: genres, dtype: int64"
      ]
     },
     "execution_count": 26,
     "metadata": {},
     "output_type": "execute_result"
    }
   ],
   "source": [
    "# generate the summary of of genres \n",
    "genredata.genres.value_counts()"
   ]
  },
  {
   "cell_type": "markdown",
   "metadata": {},
   "source": [
    "<strong> It is identified that there is no trendy of the movie from the above data anlysis  <strong>"
   ]
  },
  {
   "cell_type": "markdown",
   "metadata": {},
   "source": [
    "###  Question 2 What kinds of properties are associated with movies that have high revenues?"
   ]
  },
  {
   "cell_type": "code",
   "execution_count": 27,
   "metadata": {
    "scrolled": true
   },
   "outputs": [
    {
     "name": "stdout",
     "output_type": "stream",
     "text": [
      "<class 'pandas.core.frame.DataFrame'>\n",
      "Int64Index: 4850 entries, 0 to 10848\n",
      "Data columns (total 14 columns):\n",
      " #   Column          Non-Null Count  Dtype  \n",
      "---  ------          --------------  -----  \n",
      " 0   id              4850 non-null   int64  \n",
      " 1   popularity      4850 non-null   float64\n",
      " 2   budget          4850 non-null   int64  \n",
      " 3   revenue         4850 non-null   int64  \n",
      " 4   original_title  4850 non-null   object \n",
      " 5   director        4849 non-null   object \n",
      " 6   runtime         4850 non-null   int64  \n",
      " 7   genres          4850 non-null   object \n",
      " 8   release_date    4850 non-null   object \n",
      " 9   vote_count      4850 non-null   int64  \n",
      " 10  vote_average    4850 non-null   float64\n",
      " 11  release_year    4850 non-null   int64  \n",
      " 12  budget_adj      4850 non-null   float64\n",
      " 13  revenue_adj     4850 non-null   float64\n",
      "dtypes: float64(4), int64(6), object(4)\n",
      "memory usage: 568.4+ KB\n"
     ]
    }
   ],
   "source": [
    "revenuedf.info()"
   ]
  },
  {
   "cell_type": "code",
   "execution_count": 28,
   "metadata": {},
   "outputs": [],
   "source": [
    "#Sorting the data by the revenue_adj column descendingly\n",
    "\n",
    "highrev = pd.DataFrame(revenuedf['revenue'].sort_values(ascending=False))\n",
    "data_set = ['id','popularity','budget','original_title','director','runtime','genres','vote_average','release_year']\n",
    "for i in data_set:\n",
    "    highrev[i] = revenuedf[i]\n",
    "    highrev.head()"
   ]
  },
  {
   "cell_type": "code",
   "execution_count": 29,
   "metadata": {
    "scrolled": true
   },
   "outputs": [
    {
     "data": {
      "image/png": "[encoded data removed]",
      "text/plain": [
       "<Figure size 1152x432 with 4 Axes>"
      ]
     },
     "metadata": {
      "needs_background": "light"
     },
     "output_type": "display_data"
    }
   ],
   "source": [
    "# visualizing the data\n",
    "fig, axes = plt.subplots(2,2,figsize = (16,6))\n",
    "fig.suptitle(\"Revenue Vs (Budget,Popularity,Vote Average,Runtime)\",fontsize=14)\n",
    "sns.regplot(x=revenuedf['revenue'], y=revenuedf['budget'],color='c',ax=axes[0][0])\n",
    "sns.regplot(x=revenuedf['revenue'], y=revenuedf['popularity'],color='c',ax=axes[0][1])\n",
    "sns.regplot(x=revenuedf['revenue'], y=revenuedf['vote_average'],color='c',ax=axes[1][0])\n",
    "sns.regplot(x=revenuedf['revenue'], y=revenuedf['runtime'],color='c',ax=axes[1][1])\n",
    "sns.set_style(\"whitegrid\")"
   ]
  },
  {
   "cell_type": "code",
   "execution_count": 30,
   "metadata": {},
   "outputs": [],
   "source": [
    "def plot_correlation_map( revenuedf ):\n",
    "    corr = revenuedf.corr()\n",
    "    _ , ax = plt.subplots( figsize =( 12 , 10 ) )\n",
    "    cmap = sns.diverging_palette( 240 , 10 , as_cmap = True )\n",
    "    _ = sns.heatmap(corr,cmap = cmap,square=True, cbar_kws={ 'shrink' : .9 }, ax=ax, annot = True, annot_kws = { 'fontsize' : 12 })"
   ]
  },
  {
   "cell_type": "code",
   "execution_count": 31,
   "metadata": {
    "scrolled": true
   },
   "outputs": [
    {
     "data": {
      "image/png": "[encoded data removed]",
      "text/plain": [
       "<Figure size 864x720 with 2 Axes>"
      ]
     },
     "metadata": {},
     "output_type": "display_data"
    }
   ],
   "source": [
    "# visualizing the data\n",
    "plot_correlation_map(revenuedf[['popularity','budget','revenue','runtime','vote_count','vote_average']])"
   ]
  },
  {
   "cell_type": "markdown",
   "metadata": {},
   "source": [
    "From the above plot we can sumerize the finding as show below.\n",
    "\n",
    "I. **Budget vs. Revenue**: Although revenues increase slightly at higher levels, the number of films with large budgets appears to be limited. There is a good chance that movies with higher investments will earn more money.The coefficient of  correlation  between budget and revenue  is 0.7.\n",
    "\n",
    "As we have see the plot we can't find relationship at here. The revenues do not appear to change as the vote average rises.\n",
    "\n",
    "II. **Popularity vs. Revenue**: Popularity appears to be increasing with revenue. We can say that if a movie is popular, then its revenue will be high. The coefficient of  correlation  between  popularity and income is 0.63. \n",
    "\n",
    "III. **Average Vote vs Revenue** : The coefficient of correlation between revenue and vote average is 0.21. As a result, the vote average is not strongly related to revenue.\n",
    "\n",
    "\n",
    "VI. **Revenue vs. Runtime** :Revenue and runtime have a 0.24 correlation. As a result, runtime is not strongly related to revenue. \n"
   ]
  },
  {
   "cell_type": "markdown",
   "metadata": {},
   "source": [
    "###  Question 3  Display the title of a movie having runtime >= 180 Minutes"
   ]
  },
  {
   "cell_type": "code",
   "execution_count": 32,
   "metadata": {},
   "outputs": [
    {
     "data": {
      "text/plain": [
       "2107                                            Carlos\n",
       "2414                                    The Green Mile\n",
       "2469                                          Magnolia\n",
       "2642                                      Pearl Harbor\n",
       "2722                                  Band of Brothers\n",
       "2741                                    Dil Chahta Hai\n",
       "3110                                      Jodhaa Akbar\n",
       "3235                                           Ghajini\n",
       "4222                                        Wyatt Earp\n",
       "4949     The Lord of the Rings: The Return of the King\n",
       "5065                                 Gods and Generals\n",
       "5231                                           Titanic\n",
       "5428                           The Wolf of Wall Street\n",
       "6215                                         King Kong\n",
       "7332                                     Heaven's Gate\n",
       "7471                                        Grindhouse\n",
       "8002                                   The Right Stuff\n",
       "8134                                             Nixon\n",
       "8282                                         Malcolm X\n",
       "8397                                              Reds\n",
       "8903                                            Gandhi\n",
       "9342                                               JFK\n",
       "9758                            The Godfather: Part II\n",
       "9809                                      Barry Lyndon\n",
       "9850                                Lawrence of Arabia\n",
       "9950                               Fiddler on the Roof\n",
       "9985                                Dances with Wolves\n",
       "10115                            Judgment at Nuremberg\n",
       "10143                                        Spartacus\n",
       "10222                                 Schindler's List\n",
       "10304                                       Gettysburg\n",
       "10305                                       Short Cuts\n",
       "10443                                        Cleopatra\n",
       "10691                                   Doctor Zhivago\n",
       "10716                     The Greatest Story Ever Told\n",
       "10762                                  The Deer Hunter\n",
       "10835                                 The Sand Pebbles\n",
       "Name: original_title, dtype: object"
      ]
     },
     "execution_count": 32,
     "metadata": {},
     "output_type": "execute_result"
    }
   ],
   "source": [
    "# display the movie which has greather than or equal to 180 min runtime movies\n",
    "revenuedf[revenuedf['runtime']>=180]['original_title']"
   ]
  },
  {
   "cell_type": "markdown",
   "metadata": {},
   "source": [
    "###  Question 4 In which year was the highest average revenue?"
   ]
  },
  {
   "cell_type": "code",
   "execution_count": 33,
   "metadata": {},
   "outputs": [
    {
     "data": {
      "text/plain": [
       "release_year\n",
       "2015    1.239002e+08\n",
       "2012    1.142057e+08\n",
       "2009    1.109009e+08\n",
       "2003    1.089082e+08\n",
       "2014    1.067156e+08\n",
       "2002    1.053498e+08\n",
       "2001    1.047663e+08\n",
       "2004    1.024014e+08\n",
       "2013    1.012444e+08\n",
       "2010    1.007339e+08\n",
       "1997    9.958106e+07\n",
       "2007    9.954702e+07\n",
       "2000    9.890722e+07\n",
       "2011    9.832196e+07\n",
       "1999    9.623485e+07\n",
       "2008    9.432862e+07\n",
       "1965    9.161637e+07\n",
       "1995    9.156341e+07\n",
       "1977    9.085763e+07\n",
       "2005    8.976541e+07\n",
       "1998    8.955825e+07\n",
       "1994    8.155666e+07\n",
       "1996    7.991819e+07\n",
       "2006    7.900844e+07\n",
       "1992    7.412382e+07\n",
       "1973    7.199889e+07\n",
       "1990    6.902814e+07\n",
       "1991    6.723714e+07\n",
       "1989    6.707693e+07\n",
       "1993    6.439955e+07\n",
       "1975    6.383266e+07\n",
       "1979    6.239981e+07\n",
       "1982    6.146110e+07\n",
       "1978    5.707415e+07\n",
       "1967    5.270247e+07\n",
       "1976    5.006285e+07\n",
       "1984    4.972688e+07\n",
       "1972    4.947302e+07\n",
       "1969    4.879142e+07\n",
       "1987    4.808479e+07\n",
       "1974    4.779646e+07\n",
       "1988    4.616729e+07\n",
       "1980    4.535032e+07\n",
       "1983    4.437556e+07\n",
       "1981    4.436516e+07\n",
       "1970    4.309400e+07\n",
       "1985    4.292198e+07\n",
       "1964    4.262272e+07\n",
       "1986    3.951024e+07\n",
       "1961    3.377202e+07\n",
       "1971    2.892219e+07\n",
       "1963    2.677214e+07\n",
       "1962    2.395332e+07\n",
       "1968    2.206108e+07\n",
       "1960    2.071500e+07\n",
       "1966    1.694734e+07\n",
       "Name: revenue, dtype: float64"
      ]
     },
     "execution_count": 33,
     "metadata": {},
     "output_type": "execute_result"
    }
   ],
   "source": [
    "revenuedf.groupby('release_year')['revenue'].mean().sort_values(ascending=False)"
   ]
  },
  {
   "cell_type": "code",
   "execution_count": 34,
   "metadata": {},
   "outputs": [
    {
     "data": {
      "image/png": "[encoded data removed]",
      "text/plain": [
       "<Figure size 432x288 with 1 Axes>"
      ]
     },
     "metadata": {},
     "output_type": "display_data"
    }
   ],
   "source": [
    "# visualizing the data\n",
    "sns.barplot(x=revenuedf['release_year'], y=revenuedf['revenue'])\n",
    "plt.title(\"Revenue\")\n",
    "plt.xticks(rotation=90)\n",
    "plt.show()"
   ]
  },
  {
   "cell_type": "markdown",
   "metadata": {},
   "source": [
    "###  Question 5  Find the average rating for each director ?"
   ]
  },
  {
   "cell_type": "code",
   "execution_count": 35,
   "metadata": {},
   "outputs": [
    {
     "data": {
      "text/plain": [
       "director\n",
       "Damien Chazelle                                                                                                   8.2\n",
       "Richard Press                                                                                                     8.1\n",
       "Phil Alden Robinson|Richard Loncraine|Mikael Salomon|David Nutter|Tom Hanks|David Leland|David Frankel|Tony To    8.0\n",
       "Pete Docter                                                                                                       8.0\n",
       "Lauren Lazin                                                                                                      8.0\n",
       "                                                                                                                 ... \n",
       "Robert Young                                                                                                      3.4\n",
       "Farhad Mann                                                                                                       3.3\n",
       "Vince Offer                                                                                                       3.2\n",
       "Luigi Cozzi                                                                                                       3.1\n",
       "Lawrence Kasanoff                                                                                                 2.2\n",
       "Name: vote_average, Length: 2133, dtype: float64"
      ]
     },
     "execution_count": 35,
     "metadata": {},
     "output_type": "execute_result"
    }
   ],
   "source": [
    "revenuedf.groupby('director')['vote_average'].mean().sort_values(ascending=False)"
   ]
  },
  {
   "cell_type": "markdown",
   "metadata": {},
   "source": [
    "###  Question 6  Display Top 10 lengthy movies title and runtime?"
   ]
  },
  {
   "cell_type": "code",
   "execution_count": 36,
   "metadata": {},
   "outputs": [],
   "source": [
    "Top10_len = revenuedf.nlargest(10,'runtime')[['original_title', 'runtime']]\\\n",
    ".set_index('original_title')"
   ]
  },
  {
   "cell_type": "code",
   "execution_count": 37,
   "metadata": {},
   "outputs": [
    {
     "data": {
      "text/html": [
       "<div>\n",
       "<style scoped>\n",
       "    .dataframe tbody tr th:only-of-type {\n",
       "        vertical-align: middle;\n",
       "    }\n",
       "\n",
       "    .dataframe tbody tr th {\n",
       "        vertical-align: top;\n",
       "    }\n",
       "\n",
       "    .dataframe thead th {\n",
       "        text-align: right;\n",
       "    }\n",
       "</style>\n",
       "<table border=\"1\" class=\"dataframe\">\n",
       "  <thead>\n",
       "    <tr style=\"text-align: right;\">\n",
       "      <th></th>\n",
       "      <th>runtime</th>\n",
       "    </tr>\n",
       "    <tr>\n",
       "      <th>original_title</th>\n",
       "      <th></th>\n",
       "    </tr>\n",
       "  </thead>\n",
       "  <tbody>\n",
       "    <tr>\n",
       "      <th>Band of Brothers</th>\n",
       "      <td>705</td>\n",
       "    </tr>\n",
       "    <tr>\n",
       "      <th>Carlos</th>\n",
       "      <td>338</td>\n",
       "    </tr>\n",
       "    <tr>\n",
       "      <th>Gettysburg</th>\n",
       "      <td>254</td>\n",
       "    </tr>\n",
       "    <tr>\n",
       "      <th>Cleopatra</th>\n",
       "      <td>248</td>\n",
       "    </tr>\n",
       "    <tr>\n",
       "      <th>Heaven's Gate</th>\n",
       "      <td>219</td>\n",
       "    </tr>\n",
       "    <tr>\n",
       "      <th>Lawrence of Arabia</th>\n",
       "      <td>216</td>\n",
       "    </tr>\n",
       "    <tr>\n",
       "      <th>Gods and Generals</th>\n",
       "      <td>214</td>\n",
       "    </tr>\n",
       "    <tr>\n",
       "      <th>Jodhaa Akbar</th>\n",
       "      <td>213</td>\n",
       "    </tr>\n",
       "    <tr>\n",
       "      <th>Malcolm X</th>\n",
       "      <td>202</td>\n",
       "    </tr>\n",
       "    <tr>\n",
       "      <th>The Lord of the Rings: The Return of the King</th>\n",
       "      <td>201</td>\n",
       "    </tr>\n",
       "  </tbody>\n",
       "</table>\n",
       "</div>"
      ],
      "text/plain": [
       "                                               runtime\n",
       "original_title                                        \n",
       "Band of Brothers                                   705\n",
       "Carlos                                             338\n",
       "Gettysburg                                         254\n",
       "Cleopatra                                          248\n",
       "Heaven's Gate                                      219\n",
       "Lawrence of Arabia                                 216\n",
       "Gods and Generals                                  214\n",
       "Jodhaa Akbar                                       213\n",
       "Malcolm X                                          202\n",
       "The Lord of the Rings: The Return of the King      201"
      ]
     },
     "execution_count": 37,
     "metadata": {},
     "output_type": "execute_result"
    }
   ],
   "source": [
    "Top10_len"
   ]
  },
  {
   "cell_type": "code",
   "execution_count": 38,
   "metadata": {},
   "outputs": [
    {
     "data": {
      "text/plain": [
       "<AxesSubplot:xlabel='runtime', ylabel='original_title'>"
      ]
     },
     "execution_count": 38,
     "metadata": {},
     "output_type": "execute_result"
    },
    {
     "data": {
      "image/png": "[encoded data removed]",
      "text/plain": [
       "<Figure size 432x288 with 1 Axes>"
      ]
     },
     "metadata": {},
     "output_type": "display_data"
    }
   ],
   "source": [
    "# visualizing the data\n",
    "sns.barplot(x='runtime', y=Top10_len.index, data=Top10_len)"
   ]
  },
  {
   "cell_type": "markdown",
   "metadata": {},
   "source": [
    "###  Question 7  Display the number of movies per year ?"
   ]
  },
  {
   "cell_type": "code",
   "execution_count": 39,
   "metadata": {},
   "outputs": [
    {
     "data": {
      "text/plain": [
       "2013    244\n",
       "2011    241\n",
       "2014    228\n",
       "2010    218\n",
       "2012    216\n",
       "2015    216\n",
       "2008    206\n",
       "2006    206\n",
       "2009    200\n",
       "2007    195\n",
       "2005    184\n",
       "2004    164\n",
       "2002    139\n",
       "2003    139\n",
       "2001    128\n",
       "1999    118\n",
       "2000    111\n",
       "1993    108\n",
       "1997    107\n",
       "1998    106\n",
       "1996    104\n",
       "1995    100\n",
       "1994     87\n",
       "1992     82\n",
       "1988     81\n",
       "1990     77\n",
       "1989     77\n",
       "1986     76\n",
       "1987     72\n",
       "1991     70\n",
       "1985     67\n",
       "1984     53\n",
       "1983     52\n",
       "1981     40\n",
       "1982     40\n",
       "1980     39\n",
       "1979     27\n",
       "1978     24\n",
       "1977     24\n",
       "1973     17\n",
       "1974     17\n",
       "1976     16\n",
       "1975     15\n",
       "1971     14\n",
       "1967     14\n",
       "1970     13\n",
       "1968     12\n",
       "1961     10\n",
       "1972     10\n",
       "1962      9\n",
       "1964      8\n",
       "1960      7\n",
       "1963      7\n",
       "1965      5\n",
       "1969      5\n",
       "1966      5\n",
       "Name: release_year, dtype: int64"
      ]
     },
     "execution_count": 39,
     "metadata": {},
     "output_type": "execute_result"
    }
   ],
   "source": [
    "revenuedf['release_year'].value_counts()"
   ]
  },
  {
   "cell_type": "code",
   "execution_count": 40,
   "metadata": {},
   "outputs": [
    {
     "data": {
      "image/png": "[encoded data removed]",
      "text/plain": [
       "<Figure size 432x288 with 1 Axes>"
      ]
     },
     "metadata": {},
     "output_type": "display_data"
    }
   ],
   "source": [
    "# visualize the data\n",
    "sns.countplot(x=revenuedf['release_year'])\n",
    "plt.title(\"Number of movies per year\")\n",
    "plt.xticks(rotation=90)\n",
    "plt.show()"
   ]
  },
  {
   "cell_type": "markdown",
   "metadata": {},
   "source": [
    "###  Question 8  Find the most popular movie title(Highest Revenue)?"
   ]
  },
  {
   "cell_type": "code",
   "execution_count": 41,
   "metadata": {},
   "outputs": [
    {
     "data": {
      "text/plain": [
       "1386    Avatar\n",
       "Name: original_title, dtype: object"
      ]
     },
     "execution_count": 41,
     "metadata": {},
     "output_type": "execute_result"
    }
   ],
   "source": [
    "revenuedf[revenuedf['revenue'].max()==revenuedf['revenue']]['original_title']"
   ]
  },
  {
   "cell_type": "markdown",
   "metadata": {},
   "source": [
    "###  Question 9  Display the top highest rated movies titles and its directors?"
   ]
  },
  {
   "cell_type": "code",
   "execution_count": 42,
   "metadata": {},
   "outputs": [],
   "source": [
    "top10_len = revenuedf.nlargest(10,'vote_average')[['original_title', 'vote_average', 'director']]\\\n",
    ".set_index('original_title')"
   ]
  },
  {
   "cell_type": "code",
   "execution_count": 43,
   "metadata": {},
   "outputs": [
    {
     "data": {
      "text/html": [
       "<div>\n",
       "<style scoped>\n",
       "    .dataframe tbody tr th:only-of-type {\n",
       "        vertical-align: middle;\n",
       "    }\n",
       "\n",
       "    .dataframe tbody tr th {\n",
       "        vertical-align: top;\n",
       "    }\n",
       "\n",
       "    .dataframe thead th {\n",
       "        text-align: right;\n",
       "    }\n",
       "</style>\n",
       "<table border=\"1\" class=\"dataframe\">\n",
       "  <thead>\n",
       "    <tr style=\"text-align: right;\">\n",
       "      <th></th>\n",
       "      <th>vote_average</th>\n",
       "      <th>director</th>\n",
       "    </tr>\n",
       "    <tr>\n",
       "      <th>original_title</th>\n",
       "      <th></th>\n",
       "      <th></th>\n",
       "    </tr>\n",
       "  </thead>\n",
       "  <tbody>\n",
       "    <tr>\n",
       "      <th>The Shawshank Redemption</th>\n",
       "      <td>8.4</td>\n",
       "      <td>Frank Darabont</td>\n",
       "    </tr>\n",
       "    <tr>\n",
       "      <th>Stop Making Sense</th>\n",
       "      <td>8.4</td>\n",
       "      <td>Jonathan Demme</td>\n",
       "    </tr>\n",
       "    <tr>\n",
       "      <th>The Godfather</th>\n",
       "      <td>8.3</td>\n",
       "      <td>Francis Ford Coppola</td>\n",
       "    </tr>\n",
       "    <tr>\n",
       "      <th>Whiplash</th>\n",
       "      <td>8.2</td>\n",
       "      <td>Damien Chazelle</td>\n",
       "    </tr>\n",
       "    <tr>\n",
       "      <th>Bill Cunningham New York</th>\n",
       "      <td>8.1</td>\n",
       "      <td>Richard Press</td>\n",
       "    </tr>\n",
       "    <tr>\n",
       "      <th>Fight Club</th>\n",
       "      <td>8.1</td>\n",
       "      <td>David Fincher</td>\n",
       "    </tr>\n",
       "    <tr>\n",
       "      <th>The Dark Knight</th>\n",
       "      <td>8.1</td>\n",
       "      <td>Christopher Nolan</td>\n",
       "    </tr>\n",
       "    <tr>\n",
       "      <th>Pulp Fiction</th>\n",
       "      <td>8.1</td>\n",
       "      <td>Quentin Tarantino</td>\n",
       "    </tr>\n",
       "    <tr>\n",
       "      <th>Forrest Gump</th>\n",
       "      <td>8.1</td>\n",
       "      <td>Robert Zemeckis</td>\n",
       "    </tr>\n",
       "    <tr>\n",
       "      <th>The Godfather: Part II</th>\n",
       "      <td>8.1</td>\n",
       "      <td>Francis Ford Coppola</td>\n",
       "    </tr>\n",
       "  </tbody>\n",
       "</table>\n",
       "</div>"
      ],
      "text/plain": [
       "                          vote_average              director\n",
       "original_title                                              \n",
       "The Shawshank Redemption           8.4        Frank Darabont\n",
       "Stop Making Sense                  8.4        Jonathan Demme\n",
       "The Godfather                      8.3  Francis Ford Coppola\n",
       "Whiplash                           8.2       Damien Chazelle\n",
       "Bill Cunningham New York           8.1         Richard Press\n",
       "Fight Club                         8.1         David Fincher\n",
       "The Dark Knight                    8.1     Christopher Nolan\n",
       "Pulp Fiction                       8.1     Quentin Tarantino\n",
       "Forrest Gump                       8.1       Robert Zemeckis\n",
       "The Godfather: Part II             8.1  Francis Ford Coppola"
      ]
     },
     "execution_count": 43,
     "metadata": {},
     "output_type": "execute_result"
    }
   ],
   "source": [
    "top10_len"
   ]
  },
  {
   "cell_type": "code",
   "execution_count": 44,
   "metadata": {},
   "outputs": [
    {
     "data": {
      "text/plain": [
       "<matplotlib.legend.Legend at 0x20bdb5c4730>"
      ]
     },
     "execution_count": 44,
     "metadata": {},
     "output_type": "execute_result"
    },
    {
     "data": {
      "image/png": "[encoded data removed]",
      "text/plain": [
       "<Figure size 432x288 with 1 Axes>"
      ]
     },
     "metadata": {},
     "output_type": "display_data"
    }
   ],
   "source": [
    "# visualizing the data\n",
    "sns.barplot(x='vote_average', y=top10_len.index, data=top10_len, hue='director',dodge=False)\n",
    "plt.legend(bbox_to_anchor=(1.05,1), loc=2)"
   ]
  },
  {
   "cell_type": "markdown",
   "metadata": {},
   "source": [
    "###  Question 10  Display the top 10 highest revenue movie titles?"
   ]
  },
  {
   "cell_type": "code",
   "execution_count": 45,
   "metadata": {},
   "outputs": [
    {
     "data": {
      "text/plain": [
       "1386                             Avatar\n",
       "1329                          Star Wars\n",
       "5231                            Titanic\n",
       "10594                      The Exorcist\n",
       "9806                               Jaws\n",
       "3          Star Wars: The Force Awakens\n",
       "8889         E.T. the Extra-Terrestrial\n",
       "8094                            The Net\n",
       "10110    One Hundred and One Dalmatians\n",
       "4361                       The Avengers\n",
       "Name: original_title, dtype: object"
      ]
     },
     "execution_count": 45,
     "metadata": {},
     "output_type": "execute_result"
    }
   ],
   "source": [
    "revenuedf.nlargest(10,'revenue_adj')['original_title']"
   ]
  },
  {
   "cell_type": "code",
   "execution_count": 46,
   "metadata": {},
   "outputs": [],
   "source": [
    "top10=revenuedf.nlargest(10,'revenue_adj')[['original_title', 'revenue_adj']]\\\n",
    ".set_index('original_title')"
   ]
  },
  {
   "cell_type": "code",
   "execution_count": 47,
   "metadata": {},
   "outputs": [
    {
     "data": {
      "text/html": [
       "<div>\n",
       "<style scoped>\n",
       "    .dataframe tbody tr th:only-of-type {\n",
       "        vertical-align: middle;\n",
       "    }\n",
       "\n",
       "    .dataframe tbody tr th {\n",
       "        vertical-align: top;\n",
       "    }\n",
       "\n",
       "    .dataframe thead th {\n",
       "        text-align: right;\n",
       "    }\n",
       "</style>\n",
       "<table border=\"1\" class=\"dataframe\">\n",
       "  <thead>\n",
       "    <tr style=\"text-align: right;\">\n",
       "      <th></th>\n",
       "      <th>revenue_adj</th>\n",
       "    </tr>\n",
       "    <tr>\n",
       "      <th>original_title</th>\n",
       "      <th></th>\n",
       "    </tr>\n",
       "  </thead>\n",
       "  <tbody>\n",
       "    <tr>\n",
       "      <th>Avatar</th>\n",
       "      <td>2.827124e+09</td>\n",
       "    </tr>\n",
       "    <tr>\n",
       "      <th>Star Wars</th>\n",
       "      <td>2.789712e+09</td>\n",
       "    </tr>\n",
       "    <tr>\n",
       "      <th>Titanic</th>\n",
       "      <td>2.506406e+09</td>\n",
       "    </tr>\n",
       "    <tr>\n",
       "      <th>The Exorcist</th>\n",
       "      <td>2.167325e+09</td>\n",
       "    </tr>\n",
       "    <tr>\n",
       "      <th>Jaws</th>\n",
       "      <td>1.907006e+09</td>\n",
       "    </tr>\n",
       "    <tr>\n",
       "      <th>Star Wars: The Force Awakens</th>\n",
       "      <td>1.902723e+09</td>\n",
       "    </tr>\n",
       "    <tr>\n",
       "      <th>E.T. the Extra-Terrestrial</th>\n",
       "      <td>1.791694e+09</td>\n",
       "    </tr>\n",
       "    <tr>\n",
       "      <th>The Net</th>\n",
       "      <td>1.583050e+09</td>\n",
       "    </tr>\n",
       "    <tr>\n",
       "      <th>One Hundred and One Dalmatians</th>\n",
       "      <td>1.574815e+09</td>\n",
       "    </tr>\n",
       "    <tr>\n",
       "      <th>The Avengers</th>\n",
       "      <td>1.443191e+09</td>\n",
       "    </tr>\n",
       "  </tbody>\n",
       "</table>\n",
       "</div>"
      ],
      "text/plain": [
       "                                 revenue_adj\n",
       "original_title                              \n",
       "Avatar                          2.827124e+09\n",
       "Star Wars                       2.789712e+09\n",
       "Titanic                         2.506406e+09\n",
       "The Exorcist                    2.167325e+09\n",
       "Jaws                            1.907006e+09\n",
       "Star Wars: The Force Awakens    1.902723e+09\n",
       "E.T. the Extra-Terrestrial      1.791694e+09\n",
       "The Net                         1.583050e+09\n",
       "One Hundred and One Dalmatians  1.574815e+09\n",
       "The Avengers                    1.443191e+09"
      ]
     },
     "execution_count": 47,
     "metadata": {},
     "output_type": "execute_result"
    }
   ],
   "source": [
    "top10"
   ]
  },
  {
   "cell_type": "code",
   "execution_count": 48,
   "metadata": {},
   "outputs": [
    {
     "data": {
      "text/plain": [
       "Text(0.5, 1.0, 'Top 10 Highest Revenue Movie Titles')"
      ]
     },
     "execution_count": 48,
     "metadata": {},
     "output_type": "execute_result"
    },
    {
     "data": {
      "image/png": "[encoded data removed]",
      "text/plain": [
       "<Figure size 432x288 with 1 Axes>"
      ]
     },
     "metadata": {},
     "output_type": "display_data"
    }
   ],
   "source": [
    "# visualizing the data\n",
    "sns.barplot(x='revenue_adj', y=top10.index, data=top10)\n",
    "plt.title(\"Top 10 Highest Revenue Movie Titles\")"
   ]
  },
  {
   "cell_type": "markdown",
   "metadata": {},
   "source": [
    "###  Question 11  Find the average rating of movies on year wise ?"
   ]
  },
  {
   "cell_type": "code",
   "execution_count": 49,
   "metadata": {},
   "outputs": [
    {
     "data": {
      "text/plain": [
       "release_year\n",
       "1964    6.987500\n",
       "1960    6.985714\n",
       "1969    6.920000\n",
       "1966    6.880000\n",
       "1972    6.880000\n",
       "1973    6.805882\n",
       "1976    6.787500\n",
       "1963    6.771429\n",
       "1974    6.735294\n",
       "1970    6.669231\n",
       "1971    6.657143\n",
       "1975    6.653333\n",
       "1967    6.642857\n",
       "1961    6.620000\n",
       "1962    6.611111\n",
       "1968    6.566667\n",
       "1978    6.545833\n",
       "1965    6.540000\n",
       "1979    6.488889\n",
       "1982    6.452500\n",
       "1981    6.365000\n",
       "1977    6.362500\n",
       "2014    6.318860\n",
       "1985    6.291045\n",
       "1987    6.276389\n",
       "1980    6.241026\n",
       "2015    6.220370\n",
       "1984    6.194340\n",
       "1993    6.175000\n",
       "2013    6.159836\n",
       "1991    6.155714\n",
       "2007    6.153333\n",
       "2011    6.152697\n",
       "1999    6.152542\n",
       "1992    6.143902\n",
       "1995    6.129000\n",
       "1989    6.125974\n",
       "1997    6.124299\n",
       "1998    6.121698\n",
       "2010    6.113761\n",
       "2002    6.106475\n",
       "1990    6.102597\n",
       "1986    6.082895\n",
       "2006    6.080583\n",
       "2004    6.077439\n",
       "2005    6.073370\n",
       "2009    6.061000\n",
       "2001    6.049219\n",
       "2008    6.041748\n",
       "2003    6.041007\n",
       "1994    6.017241\n",
       "1996    6.014423\n",
       "1988    6.012346\n",
       "2012    5.993056\n",
       "2000    5.969369\n",
       "1983    5.944231\n",
       "Name: vote_average, dtype: float64"
      ]
     },
     "execution_count": 49,
     "metadata": {},
     "output_type": "execute_result"
    }
   ],
   "source": [
    "revenuedf.groupby('release_year')['vote_average'].mean().sort_values(ascending=False)"
   ]
  },
  {
   "cell_type": "markdown",
   "metadata": {},
   "source": [
    "###  Question 12  Movies Based on Ratings [Excellent, Good and Average] "
   ]
  },
  {
   "cell_type": "code",
   "execution_count": 50,
   "metadata": {},
   "outputs": [],
   "source": [
    "def vote_average(vote_average):\n",
    "    if vote_average >= 7.0:\n",
    "        return \"Excellent\"\n",
    "    elif vote_average>=6.0:\n",
    "        return \"Good\"\n",
    "    else:\n",
    "        return \"Average\"\n",
    "    "
   ]
  },
  {
   "cell_type": "code",
   "execution_count": 51,
   "metadata": {},
   "outputs": [],
   "source": [
    "# creating new column to satsfiye the above condition\n",
    "revenuedf['rating_cat']=revenuedf['vote_average'].apply(vote_average)"
   ]
  },
  {
   "cell_type": "code",
   "execution_count": 52,
   "metadata": {},
   "outputs": [
    {
     "data": {
      "text/html": [
       "<div>\n",
       "<style scoped>\n",
       "    .dataframe tbody tr th:only-of-type {\n",
       "        vertical-align: middle;\n",
       "    }\n",
       "\n",
       "    .dataframe tbody tr th {\n",
       "        vertical-align: top;\n",
       "    }\n",
       "\n",
       "    .dataframe thead th {\n",
       "        text-align: right;\n",
       "    }\n",
       "</style>\n",
       "<table border=\"1\" class=\"dataframe\">\n",
       "  <thead>\n",
       "    <tr style=\"text-align: right;\">\n",
       "      <th></th>\n",
       "      <th>id</th>\n",
       "      <th>popularity</th>\n",
       "      <th>budget</th>\n",
       "      <th>revenue</th>\n",
       "      <th>original_title</th>\n",
       "      <th>director</th>\n",
       "      <th>runtime</th>\n",
       "      <th>genres</th>\n",
       "      <th>release_date</th>\n",
       "      <th>vote_count</th>\n",
       "      <th>vote_average</th>\n",
       "      <th>release_year</th>\n",
       "      <th>budget_adj</th>\n",
       "      <th>revenue_adj</th>\n",
       "      <th>rating_cat</th>\n",
       "    </tr>\n",
       "  </thead>\n",
       "  <tbody>\n",
       "    <tr>\n",
       "      <th>0</th>\n",
       "      <td>135397</td>\n",
       "      <td>32.985763</td>\n",
       "      <td>150000000</td>\n",
       "      <td>1513528810</td>\n",
       "      <td>Jurassic World</td>\n",
       "      <td>Colin Trevorrow</td>\n",
       "      <td>124</td>\n",
       "      <td>Action|Adventure|Science Fiction|Thriller</td>\n",
       "      <td>6/9/15</td>\n",
       "      <td>5562</td>\n",
       "      <td>6.5</td>\n",
       "      <td>2015</td>\n",
       "      <td>1.379999e+08</td>\n",
       "      <td>1.392446e+09</td>\n",
       "      <td>Good</td>\n",
       "    </tr>\n",
       "    <tr>\n",
       "      <th>1</th>\n",
       "      <td>76341</td>\n",
       "      <td>28.419936</td>\n",
       "      <td>150000000</td>\n",
       "      <td>378436354</td>\n",
       "      <td>Mad Max: Fury Road</td>\n",
       "      <td>George Miller</td>\n",
       "      <td>120</td>\n",
       "      <td>Action|Adventure|Science Fiction|Thriller</td>\n",
       "      <td>5/13/15</td>\n",
       "      <td>6185</td>\n",
       "      <td>7.1</td>\n",
       "      <td>2015</td>\n",
       "      <td>1.379999e+08</td>\n",
       "      <td>3.481613e+08</td>\n",
       "      <td>Excellent</td>\n",
       "    </tr>\n",
       "    <tr>\n",
       "      <th>2</th>\n",
       "      <td>262500</td>\n",
       "      <td>13.112507</td>\n",
       "      <td>110000000</td>\n",
       "      <td>295238201</td>\n",
       "      <td>Insurgent</td>\n",
       "      <td>Robert Schwentke</td>\n",
       "      <td>119</td>\n",
       "      <td>Adventure|Science Fiction|Thriller</td>\n",
       "      <td>3/18/15</td>\n",
       "      <td>2480</td>\n",
       "      <td>6.3</td>\n",
       "      <td>2015</td>\n",
       "      <td>1.012000e+08</td>\n",
       "      <td>2.716190e+08</td>\n",
       "      <td>Good</td>\n",
       "    </tr>\n",
       "  </tbody>\n",
       "</table>\n",
       "</div>"
      ],
      "text/plain": [
       "       id  popularity     budget     revenue      original_title  \\\n",
       "0  135397   32.985763  150000000  1513528810      Jurassic World   \n",
       "1   76341   28.419936  150000000   378436354  Mad Max: Fury Road   \n",
       "2  262500   13.112507  110000000   295238201           Insurgent   \n",
       "\n",
       "           director  runtime                                     genres  \\\n",
       "0   Colin Trevorrow      124  Action|Adventure|Science Fiction|Thriller   \n",
       "1     George Miller      120  Action|Adventure|Science Fiction|Thriller   \n",
       "2  Robert Schwentke      119         Adventure|Science Fiction|Thriller   \n",
       "\n",
       "  release_date  vote_count  vote_average  release_year    budget_adj  \\\n",
       "0       6/9/15        5562           6.5          2015  1.379999e+08   \n",
       "1      5/13/15        6185           7.1          2015  1.379999e+08   \n",
       "2      3/18/15        2480           6.3          2015  1.012000e+08   \n",
       "\n",
       "    revenue_adj rating_cat  \n",
       "0  1.392446e+09       Good  \n",
       "1  3.481613e+08  Excellent  \n",
       "2  2.716190e+08       Good  "
      ]
     },
     "execution_count": 52,
     "metadata": {},
     "output_type": "execute_result"
    }
   ],
   "source": [
    "revenuedf.head(3)"
   ]
  },
  {
   "cell_type": "markdown",
   "metadata": {},
   "source": [
    "###  Question 13  Count the number of action movies? "
   ]
  },
  {
   "cell_type": "code",
   "execution_count": 53,
   "metadata": {},
   "outputs": [
    {
     "data": {
      "text/plain": [
       "dtype('O')"
      ]
     },
     "execution_count": 53,
     "metadata": {},
     "output_type": "execute_result"
    }
   ],
   "source": [
    "#cheking data taype  \n",
    "revenuedf['genres'].dtype"
   ]
  },
  {
   "cell_type": "code",
   "execution_count": 54,
   "metadata": {},
   "outputs": [
    {
     "data": {
      "text/plain": [
       "1261"
      ]
     },
     "execution_count": 54,
     "metadata": {},
     "output_type": "execute_result"
    }
   ],
   "source": [
    "# since its str data type we apply str methods\n",
    "len(revenuedf[revenuedf['genres'].str.contains('Action', case=False)]) # to make it case insensetive "
   ]
  },
  {
   "cell_type": "markdown",
   "metadata": {},
   "source": [
    "<Strong>There are 1261 Action movies in our datasat <strong>"
   ]
  },
  {
   "cell_type": "markdown",
   "metadata": {},
   "source": [
    "###  Question 14  Find the unique values from generes?"
   ]
  },
  {
   "cell_type": "code",
   "execution_count": 55,
   "metadata": {},
   "outputs": [
    {
     "data": {
      "text/plain": [
       "Drama              2275\n",
       "Comedy             1771\n",
       "Thriller           1424\n",
       "Action             1261\n",
       "Romance             877\n",
       "Adventure           843\n",
       "Crime               774\n",
       "Science Fiction     587\n",
       "Horror              561\n",
       "Family              513\n",
       "Fantasy             461\n",
       "Mystery             410\n",
       "Animation           237\n",
       "Music               186\n",
       "History             153\n",
       "War                 137\n",
       "Documentary         102\n",
       "Western              65\n",
       "Foreign              31\n",
       "TV Movie              1\n",
       "dtype: int64"
      ]
     },
     "execution_count": 55,
     "metadata": {},
     "output_type": "execute_result"
    }
   ],
   "source": [
    "revenuedf.genres.str.split('|',expand=True).stack().value_counts()"
   ]
  },
  {
   "cell_type": "markdown",
   "metadata": {},
   "source": [
    "###  Question 15  Which director produces the higher number of movies? (Top 10)"
   ]
  },
  {
   "cell_type": "code",
   "execution_count": 56,
   "metadata": {
    "scrolled": true
   },
   "outputs": [
    {
     "data": {
      "text/plain": [
       "Steven Spielberg     27\n",
       "Clint Eastwood       26\n",
       "Woody Allen          22\n",
       "Ridley Scott         22\n",
       "Ron Howard           18\n",
       "Martin Scorsese      18\n",
       "Steven Soderbergh    17\n",
       "Tim Burton           16\n",
       "Tony Scott           16\n",
       "Joel Schumacher      16\n",
       "Name: director, dtype: int64"
      ]
     },
     "execution_count": 56,
     "metadata": {},
     "output_type": "execute_result"
    }
   ],
   "source": [
    "revenuedf['director'].value_counts().head(n=10)"
   ]
  },
  {
   "cell_type": "markdown",
   "metadata": {},
   "source": [
    "<a id='conclusions'></a>\n",
    "## Conclusions\n",
    "\n",
    " \n",
    "1. Genres does not have trendy from the data anlysis.\n",
    "    \n",
    "2. Budget has a positive relationship with revenues. as the budget increases the revenue is also increased. \n",
    "    \n",
    "3.  Carlos,The Green Mile and Magnolia are the top three which has higher runtime.  \n",
    "\n",
    "4. The higher avarage revenue generated on 2015.\n",
    "\n",
    "5. Avatar is the most popular movie with highest revenue.\n",
    "\n",
    "6. the highest number of movie was produced by  Steven Spielberg  and  he produced 27 movies."
   ]
  },
  {
   "cell_type": "markdown",
   "metadata": {},
   "source": [
    "## References \n",
    "\n",
    "<ol>\n",
    "<li><a href=\"https://udacity.com\">udacity.com</a></li>\n",
    "<li><a href=\"https://stackoverflow.com/\">stackoverflow</a></li>\n",
    "<li><a href=\"https://www.askpython.com/\">askpython</a></li>\n",
    "<li><a href=\"https://www.datasciencemadesimple.com/\">datasciencemadesimple</a></li>\n",
    "<li><a href=\"https://pythonexamples.org/pandas-dataframe-delete-column/\">pythonexamples</a></li>\n",
    "<li><a href=\"https://pythonguides.com/python-pandas-drop-duplicates/\">pythonguides</a></li>\n",
    "<li><a href=\"https://www.machinelearningplus.com/\">machinelearningplus</a></li>\n",
    "  \n",
    "<li>Python Data Analytics reference books </li>   \n",
    "</ol>\n"
   ]
  }
 ],
 "metadata": {
  "kernelspec": {
   "display_name": "Python 3 (ipykernel)",
   "language": "python",
   "name": "python3"
  },
  "language_info": {
   "codemirror_mode": {
    "name": "ipython",
    "version": 3
   },
   "file_extension": ".py",
   "mimetype": "text/x-python",
   "name": "python",
   "nbconvert_exporter": "python",
   "pygments_lexer": "ipython3",
   "version": "3.9.12"
  }
 },
 "nbformat": 4,
 "nbformat_minor": 2
}
